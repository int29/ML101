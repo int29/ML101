{
 "cells": [
  {
   "cell_type": "markdown",
   "id": "19ef2867",
   "metadata": {},
   "source": [
    "## 02.최근접 이웃(KNN : K Nearest Neighborhood)"
   ]
  },
  {
   "cell_type": "markdown",
   "id": "4e048636",
   "metadata": {},
   "source": [
    "## (1) KNN 이해하기\n",
    "옛말에 \"유유상종\"<span style=\"font-size:70%\">[1]</span>이기 때문에 \"그 사람을 알려면 그가 사귀는 친구를 보라\"<span style=\"font-size:70%\">[2]</span> 라는 말이 있다. 서로 비슷한 사람들이 끼리끼리 어울려 다니며 사귀는법이기 때문에 어울리는 무리를 통해 그 사람에 대해서 판단해볼만 하다는 이야기이다. 이는 KNN알고리즘의 작동 방식과 정확하게 일치한다. \n",
    "\n",
    "KNN은 어떤 미지의 데이터에 대하여 가장 근접한 데이터의 라벨을 그 데이터의 정체로 판단하는 지도학습 분류(Classification) 알고리즘을 말한다. \n",
    "\n",
    "<div align=\"center\">\n",
    "\t<img src=\"https://github.com/int29/PMLP-101/blob/main/chapter_02_Algorithm_Classification_01_KNN/img/02_01.png?raw=true\" width=600>\n",
    "    <p>[그림201]</p>\n",
    "    \n",
    "</div>"
   ]
  },
  {
   "cell_type": "markdown",
   "id": "a0d1a9ed",
   "metadata": {},
   "source": [
    "## (2) KNN의 작동원리\n",
    "\n",
    "KNN은 어떤 미지의 라벨을 분류하는 **지도학습** 방식의 알고리즘이기 때문에, 분류하고자 하는 정답값이 존재하는 라벨링이 된 데이터를 모델학습에 활용한다.\n",
    "\n",
    "KNN은 학습시 별도의 복잡한 과정 없이 훈련데이터 모두를 N차원상의 벡터공간의 한 점(벡터)으로 메모리에 저장하고 학습을 마무리한다. 아래 그림처럼 총 10개의 관측값이 존재하는 라벨링된 데이터를 학습할 경우 10개의 점을 N차원상의 한 점으로 맵핑할 뿐이다.\n",
    "\n",
    "<div align=\"center\">\n",
    "\t<img src=\"https://github.com/int29/PMLP-101/blob/main/chapter_02_Algorithm_Classification_01_KNN/img/02_02.png?raw=true\" width=700>\n",
    "\t<p>[그림202]</p>\n",
    "</div>\n",
    "\n",
    "그리고 분류할 데이터도 마찬가지로 훈련데이터와 같은 벡터공간의 벡터로 맵핑하고, 사전에 맵핑시킨 모든 벡터와 거리를 비교한다.\n",
    "\n",
    "그 후 가장 가까운 K개만큼의 벡터를 추출해 그 중 다수결 원칙에 따라 분류를 진행한다.\n",
    "\n",
    "<div align=\"center\">\n",
    "    <p align=\"center\">[그림203]</p>\n",
    "\t<img src=\"https://github.com/int29/PMLP-101/blob/main/chapter_02_Algorithm_Classification_01_KNN/img/02_03.png?raw=true\" width=400>\n",
    "\t\n",
    "</div>\n",
    "\n",
    "그렇기 때문에 K의 수에 따라 모델이 분류하는 결과값이 달라질 수 있으며, 보통은 K값의 동률을 방지하기 위해 홀수로 설정하며, 만약 동률이 발생할 경우 무작위 혹은 각 점의 거리가 짧은 순으로 판단한다.\n",
    "\n",
    "<div align=\"center\">\n",
    "\t<img src=\"https://github.com/int29/PMLP-101/blob/main/chapter_02_Algorithm_Classification_01_KNN/img/02_04.png?raw=true\" width=600>\n",
    "\t<p>[그림204]</p>\n",
    "</div>"
   ]
  },
  {
   "cell_type": "markdown",
   "id": "b9d657cd",
   "metadata": {},
   "source": [
    "## (3)KNN 알고리즘 더 깊게 이해하기\n",
    "\n",
    "### KNN 알고리즘의  특징\n",
    "KNN은 단순히 데이터를 N차원상의 벡터공간의 한 점으로 저장하고, 비교하여 예측값을 제공할 뿐이기 때문에 [01.머신러닝의 이해](https://github.com/int29/PMLP-101/blob/main/chapter_01_Understanding_Machine_Learning/01.%EB%A8%B8%EC%8B%A0%EB%9F%AC%EB%8B%9D%20%EC%9D%B4%ED%95%B4%ED%95%98%EA%B8%B0.md) 에서 머신러닝의 학습에 대해 설명했던 추상화와 일반화 과정이 없는 모형이다. 이렇게 모델을 만들지 않고 단순히 각 데이터를(인스턴스) 저장하였다 활용하는 알고리즘을 인스턴스 베이스 머신러닝 알고리즘이라고 하고, KNN은 인스턴스 베이스 모델중 한가지 이다.<span style=\"font-size:70%\">1</span>,<span style=\"font-size:70%\">2</span> \n",
    "\n",
    "KNN은 학습과정에서 추상화를 통해 데이터의 패턴을 계산하고 미지의 데이터에 대해서도 잘 반영할 수 있는 모델을 만드는 일반화 과정 없이 단순히 벡터공간상의 한 점으로 맵핑하여 학습을 진행하기 때문에 모델 베이스 머신러닝에 비해서 훈련속도가 빠르다. \n",
    "\n",
    "또한 간단한 알고리즘이기 때문에 하이퍼 파라미터가 적어 개발 및 파라미터 튜닝과정 또한 상대적으로 빨리 모델을 개발할 수 있다. \n",
    "\n",
    "마지막으로 로직이 직관적이기 때문에 가장 처음 생성하고 살펴보는 베이스모형(혹은 벤치마크모형)에 많이 사용하곤한다.\n",
    "\n",
    "반면 분류하려는 값에 대하여 모든 훈련 인스턴스와 비교를 진행하기 때문에 훈련속도는 빠르지만 예측(분류)하는 속도는 모델 베이스 모형보다 느리다. 또 두 벡터 사이의 거리를 계산하는 방식으로 이상치나 잡음, 데이터 피처(Feature)의 스케일에 영향을 많이 받는다는 단점이 존재한다. 또한 적절 K를 선정하는것이 어렵다. \n",
    "\n",
    "### KNN의 거리계산 방식\n",
    "KNN은 거리가 가까울수록 유사도가 높고, 거리가 멀수록 유사도가 낮다는 굉장히 심플한 논리를 갖고 있다. 따라서 KNN은 벡터(좌표평면의 한 점)끼리의 거리를 계산하여 얼마나 유사한지 유사도를 계산한다. 거리 계산 시 가장 많이 사용하는 방법은 유클리디안 거리(Euclidean distance) 계산 방식으로 중학교 수학에 나오는 피타고라스의 정리와 계산방법이 동일한 거리계산 법이다. \n",
    "\n",
    "> 유클리디안 거리(Euclidean distance)는 유클리드가 선형대수에서는 L2 norm이라고 부르는 벡터간 최단거리를 계산하는 방법이다. 세분화된 분야에 따라서 부르는 명칭은 다르지만 계산하는 방식은 모두 동일하다.\n",
    "\n",
    "유클리디안 거리(Euclidean distance) 는 아래와 같이 계산한다.\n",
    "\n",
    "$$d(p,q) = \\sqrt{\\sum_{i=1}^n (q_i - p_i)^2} =  \\sqrt{(x_1 - x_2)^2+(y_1 - y_2)^2+...+(u_1 - u_2)^2} $$\n",
    "$d(p,q)$는 두 점 $p$와 $q$ 사이의 거리를 나타내고, $n$은 차원의 수를 나타냄. $u$는 N번째 차원의 축을 의미함\n",
    "\n",
    "예를 들어 x축과 y축 2개의 축을 갖는 2차원상의 두 점(벡터) $p$와 $q$는 각각 $(x_1, y_1)$, $(x_1, y_2) = (1, 2), (3, 4)$ 이라는 좌표를 갖는다고 해보자.  두 점 $p$와 $q$는 아래와 같이 좌표계에 표현이 가능할 것이다.\n",
    "\n",
    "<div align=\"center\">\n",
    "\t<img src=\"https://github.com/int29/PMLP-101/blob/main/chapter_02_Algorithm_Classification_01_KNN/img/02_05.png?raw=true\" width=400>\n",
    "\t<p>[그림205]</p>\n",
    "</div>\n",
    "\n",
    "이 때 두 점사이의 최단거리는 두점의 직선거리가 되기 때문에 \n",
    "\n",
    "<div align=\"center\">\n",
    "\t<img src=\"https://github.com/int29/PMLP-101/blob/main/chapter_02_Algorithm_Classification_01_KNN/img/02_06.png?raw=true\" width=400>\n",
    "\t<p>[그림206]</p>\n",
    "</div>\n",
    "\n",
    "유클리디안 거리 계산 공식에 대입하면 두 점사이의 거리가 $2$ 임을 계산할 수 있다.\n",
    "$$d(p,q) =\\sqrt{(1 - 3)^2+(2 - 4)^2}= \\sqrt{(-2)^2+(-2)^2} = \\sqrt{4} = 2$$\n",
    "\n",
    "이를 쉽게 생각하면 아래와 같은 삼각형의 대각선의 거리와 동일한 모양이 나온다. 따라서 피타고라스의 정리를 적용하면 동일한 결과가 나오는것을 알 수 있다.\n",
    "\n",
    "<div align=\"center\">\n",
    "\t<img src=\"https://github.com/int29/PMLP-101/blob/main/chapter_02_Algorithm_Classification_01_KNN/img/02_07.png?raw=true\" width=400>\n",
    "\t<p>[그림207]</p>\n",
    "</div>\n",
    "\n",
    "> 거리를 계산하는 방법이나, 유사도를 계산하는 방법은 맨하튼 거리(L1 norm), 코사인유사도($\\theta$)(cosin distance), 두 점사이의 상관관계를 활용하는 마할라노비스 거리(Mahalanobis distance) 등 여러 방법이 존재한다. 각 방법의 장단이 존재하고 사용해야하는 상황이 각기 다르기 때문에 추후에 꼭 각 거리의 계산법과 장단점들을 공부하길 바란다.<span style=\"font-size:70%\">[3]</span> "
   ]
  },
  {
   "cell_type": "markdown",
   "id": "54c2a10c",
   "metadata": {},
   "source": [
    "## (4) KNN데이터 활용해보기\n",
    "\n",
    "Iris 데이터는 'sepal length (cm)', 'sepal width (cm)', 'petal length (cm)', 'petal width (cm)' 총 4개의 피처(features)로 구성돼 있다. 이번 챕터는 위에서 설명한 KNN모형에 대해서 활용과 함께 이해하는 것이 목표이기 때문에 우선 'petal length (cm)', 'petal width (cm)' 2개의 피처로 KNN모형을 만들어 실제 KNN알고리즘이 어떻게 작동하는지 확인하고 4개의 모든 피처로 iris의 class를 분류(예측)하는 완성된 KNN모형을 만들것이다.\n",
    "\n",
    "\n",
    "사용하는 Iris 데이터의 설명과 전처리 및 EDA에 대한내용은 분량 및 구성상 [예제 데이터 설명 : iris 데이터]() 에 설명해 두었으니, 본 예제를 진행하기 전 꼭 확인후에 알고리즘 활용을 살펴보길 바란다. "
   ]
  },
  {
   "cell_type": "markdown",
   "id": "4ffa036f",
   "metadata": {},
   "source": [
    "### Step00 : 라이브러리 로드\n",
    "pure python을 통해서 A부터 Z까지 개발하는건 아니기 때문에 데이터를 핸들링하는 pandas, numpy 라이브러리, 시각화를 도와주는 matplotlib, seaborn, KNN모델을 만들 수 있는 sklearn라이브러리를 로드한다.\n",
    "\n",
    "사용하는 라이브러리는 아래와 같고 설치가 필요할 경우 아래 명령어를 통해 설치하도록 하자.\n",
    "1. 데이터 전처리를 위한 pandas 및 numpy 라이브러리, 데이터 시각화를 위한 라이브러리 matploblib, seaborn\n",
    "    * `pip install pandas, numpy, matploblib, seaborn` <br><br>\n",
    "2. sklearn 머신러닝 라이브러리\n",
    "    * `pip install scikit-learn`"
   ]
  },
  {
   "cell_type": "code",
   "execution_count": 55,
   "id": "d5c15c00",
   "metadata": {},
   "outputs": [],
   "source": [
    "# 데이터 전처리를 위한 pandas 및 numpy 라이브러리 로드\n",
    "import pandas as pd\n",
    "import numpy as np\n",
    "\n",
    "# sklearn 머신러닝 라이브러리에서 iris 예제 데이터 로드하는 함수 로드\n",
    "from sklearn.datasets import load_iris\n",
    "\n",
    "# sklearn KNN 로드\n",
    "from sklearn import neighbors\n",
    "\n",
    "# sklearn Train&Test Set나누는 함수 로드\n",
    "from sklearn.model_selection import train_test_split\n",
    "\n",
    "# Sklearn 평가(metric)함수 중 accuracy 점수 로드\n",
    "from sklearn.metrics import accuracy_score\n",
    "\n",
    "# warnning message를 노출하지 않는 설정\n",
    "import warnings\n",
    "warnings.filterwarnings(action='ignore')\n",
    "\n",
    "# 시각화를 위한 라이브러리\n",
    "import matplotlib.pyplot as plt\n",
    "import seaborn as sns\n",
    "\n",
    "# 주피터 노트북에 차트를 바로 랜더링하기 위한 주피터노트북 내장 매직명령어\n",
    "%matplotlib inline "
   ]
  },
  {
   "cell_type": "markdown",
   "id": "f7fd4030",
   "metadata": {},
   "source": [
    "### Step01 : 데이터 로드 및 클린징(전처리)\n",
    "\n",
    "라이브러리를 로드하였다면, Iris데이터를 로드하고 데이터프레임형태로 전처리한다."
   ]
  },
  {
   "cell_type": "code",
   "execution_count": 56,
   "id": "b33e612f",
   "metadata": {},
   "outputs": [],
   "source": [
    "# iris 데이터로드 및 처리\n",
    "iris_data = load_iris()\n",
    "\n",
    "# iris 피처데이터 값, 피처 칼럼명, 타겟 데이터값, 타겟값의 각 class의 이름 로드\n",
    "# 해당 과정에 대한 자세한 설명은 [예제 데이터 설명 : iris 데이터]를 참고\n",
    "\n",
    "features = iris_data['data'] # iris데이터에서 피쳐들의 값을 추출\n",
    "column_name = iris_data['feature_names'] # iris데이터에서 피쳐칼럼명을 추출\n",
    "\n",
    "target = iris_data['target'] # iris데이터에서 타겟 칼럼값을 추출\n",
    "target_name = iris_data['target_names'] #타겟값의 각 class의 이름 로드\n",
    "\n",
    "# python dictionry 형태의 iris데이터를 pandas데이터프레임으로 변환\n",
    "iris_df = pd.DataFrame(features, columns= column_name)\n",
    "\n",
    "# 추출한 타겟값을 target이라는 칼럼명으로 추가\n",
    "iris_df['target'] = target\n",
    "\n",
    "# 0,1,2 코드형태로 저장된 타켓값을 알맞게 'setosa', 'versicolor', 'virginica'에 맞는 신규칼럼생성\n",
    "iris_df['target_names'] = ''\n",
    "iris_df['target_names'][iris_df['target']==0] = iris_data['target_names'][0]\n",
    "iris_df['target_names'][iris_df['target']==1] = iris_data['target_names'][1]\n",
    "iris_df['target_names'][iris_df['target']==2] = iris_data['target_names'][2]"
   ]
  },
  {
   "cell_type": "code",
   "execution_count": 57,
   "id": "f51d7770",
   "metadata": {},
   "outputs": [
    {
     "data": {
      "text/html": [
       "<div>\n",
       "<style scoped>\n",
       "    .dataframe tbody tr th:only-of-type {\n",
       "        vertical-align: middle;\n",
       "    }\n",
       "\n",
       "    .dataframe tbody tr th {\n",
       "        vertical-align: top;\n",
       "    }\n",
       "\n",
       "    .dataframe thead th {\n",
       "        text-align: right;\n",
       "    }\n",
       "</style>\n",
       "<table border=\"1\" class=\"dataframe\">\n",
       "  <thead>\n",
       "    <tr style=\"text-align: right;\">\n",
       "      <th></th>\n",
       "      <th>sepal length (cm)</th>\n",
       "      <th>sepal width (cm)</th>\n",
       "      <th>petal length (cm)</th>\n",
       "      <th>petal width (cm)</th>\n",
       "      <th>target</th>\n",
       "      <th>target_names</th>\n",
       "    </tr>\n",
       "  </thead>\n",
       "  <tbody>\n",
       "    <tr>\n",
       "      <th>0</th>\n",
       "      <td>5.1</td>\n",
       "      <td>3.5</td>\n",
       "      <td>1.4</td>\n",
       "      <td>0.2</td>\n",
       "      <td>0</td>\n",
       "      <td>setosa</td>\n",
       "    </tr>\n",
       "    <tr>\n",
       "      <th>1</th>\n",
       "      <td>4.9</td>\n",
       "      <td>3.0</td>\n",
       "      <td>1.4</td>\n",
       "      <td>0.2</td>\n",
       "      <td>0</td>\n",
       "      <td>setosa</td>\n",
       "    </tr>\n",
       "    <tr>\n",
       "      <th>2</th>\n",
       "      <td>4.7</td>\n",
       "      <td>3.2</td>\n",
       "      <td>1.3</td>\n",
       "      <td>0.2</td>\n",
       "      <td>0</td>\n",
       "      <td>setosa</td>\n",
       "    </tr>\n",
       "    <tr>\n",
       "      <th>3</th>\n",
       "      <td>4.6</td>\n",
       "      <td>3.1</td>\n",
       "      <td>1.5</td>\n",
       "      <td>0.2</td>\n",
       "      <td>0</td>\n",
       "      <td>setosa</td>\n",
       "    </tr>\n",
       "    <tr>\n",
       "      <th>4</th>\n",
       "      <td>5.0</td>\n",
       "      <td>3.6</td>\n",
       "      <td>1.4</td>\n",
       "      <td>0.2</td>\n",
       "      <td>0</td>\n",
       "      <td>setosa</td>\n",
       "    </tr>\n",
       "  </tbody>\n",
       "</table>\n",
       "</div>"
      ],
      "text/plain": [
       "   sepal length (cm)  sepal width (cm)  petal length (cm)  petal width (cm)  \\\n",
       "0                5.1               3.5                1.4               0.2   \n",
       "1                4.9               3.0                1.4               0.2   \n",
       "2                4.7               3.2                1.3               0.2   \n",
       "3                4.6               3.1                1.5               0.2   \n",
       "4                5.0               3.6                1.4               0.2   \n",
       "\n",
       "   target target_names  \n",
       "0       0       setosa  \n",
       "1       0       setosa  \n",
       "2       0       setosa  \n",
       "3       0       setosa  \n",
       "4       0       setosa  "
      ]
     },
     "execution_count": 57,
     "metadata": {},
     "output_type": "execute_result"
    }
   ],
   "source": [
    "# 데이터 head 체크\n",
    "iris_df.head()"
   ]
  },
  {
   "cell_type": "code",
   "execution_count": 58,
   "id": "47d5ef8e",
   "metadata": {},
   "outputs": [
    {
     "data": {
      "text/html": [
       "<div>\n",
       "<style scoped>\n",
       "    .dataframe tbody tr th:only-of-type {\n",
       "        vertical-align: middle;\n",
       "    }\n",
       "\n",
       "    .dataframe tbody tr th {\n",
       "        vertical-align: top;\n",
       "    }\n",
       "\n",
       "    .dataframe thead th {\n",
       "        text-align: right;\n",
       "    }\n",
       "</style>\n",
       "<table border=\"1\" class=\"dataframe\">\n",
       "  <thead>\n",
       "    <tr style=\"text-align: right;\">\n",
       "      <th></th>\n",
       "      <th>sepal length (cm)</th>\n",
       "      <th>sepal width (cm)</th>\n",
       "      <th>petal length (cm)</th>\n",
       "      <th>petal width (cm)</th>\n",
       "      <th>target</th>\n",
       "      <th>target_names</th>\n",
       "    </tr>\n",
       "  </thead>\n",
       "  <tbody>\n",
       "    <tr>\n",
       "      <th>145</th>\n",
       "      <td>6.7</td>\n",
       "      <td>3.0</td>\n",
       "      <td>5.2</td>\n",
       "      <td>2.3</td>\n",
       "      <td>2</td>\n",
       "      <td>virginica</td>\n",
       "    </tr>\n",
       "    <tr>\n",
       "      <th>146</th>\n",
       "      <td>6.3</td>\n",
       "      <td>2.5</td>\n",
       "      <td>5.0</td>\n",
       "      <td>1.9</td>\n",
       "      <td>2</td>\n",
       "      <td>virginica</td>\n",
       "    </tr>\n",
       "    <tr>\n",
       "      <th>147</th>\n",
       "      <td>6.5</td>\n",
       "      <td>3.0</td>\n",
       "      <td>5.2</td>\n",
       "      <td>2.0</td>\n",
       "      <td>2</td>\n",
       "      <td>virginica</td>\n",
       "    </tr>\n",
       "    <tr>\n",
       "      <th>148</th>\n",
       "      <td>6.2</td>\n",
       "      <td>3.4</td>\n",
       "      <td>5.4</td>\n",
       "      <td>2.3</td>\n",
       "      <td>2</td>\n",
       "      <td>virginica</td>\n",
       "    </tr>\n",
       "    <tr>\n",
       "      <th>149</th>\n",
       "      <td>5.9</td>\n",
       "      <td>3.0</td>\n",
       "      <td>5.1</td>\n",
       "      <td>1.8</td>\n",
       "      <td>2</td>\n",
       "      <td>virginica</td>\n",
       "    </tr>\n",
       "  </tbody>\n",
       "</table>\n",
       "</div>"
      ],
      "text/plain": [
       "     sepal length (cm)  sepal width (cm)  petal length (cm)  petal width (cm)  \\\n",
       "145                6.7               3.0                5.2               2.3   \n",
       "146                6.3               2.5                5.0               1.9   \n",
       "147                6.5               3.0                5.2               2.0   \n",
       "148                6.2               3.4                5.4               2.3   \n",
       "149                5.9               3.0                5.1               1.8   \n",
       "\n",
       "     target target_names  \n",
       "145       2    virginica  \n",
       "146       2    virginica  \n",
       "147       2    virginica  \n",
       "148       2    virginica  \n",
       "149       2    virginica  "
      ]
     },
     "execution_count": 58,
     "metadata": {},
     "output_type": "execute_result"
    }
   ],
   "source": [
    "# 데이터 head 체크\n",
    "iris_df.tail()"
   ]
  },
  {
   "cell_type": "markdown",
   "id": "fe8e4576",
   "metadata": {},
   "source": [
    "### Step02 : 모델 훈련을 위한 데이터 준비\n",
    "### KNN의 직관적 이해를 위한 샘플데이터 추출"
   ]
  },
  {
   "cell_type": "code",
   "execution_count": 59,
   "id": "32b3ebde",
   "metadata": {},
   "outputs": [
    {
     "data": {
      "text/html": [
       "<div>\n",
       "<style scoped>\n",
       "    .dataframe tbody tr th:only-of-type {\n",
       "        vertical-align: middle;\n",
       "    }\n",
       "\n",
       "    .dataframe tbody tr th {\n",
       "        vertical-align: top;\n",
       "    }\n",
       "\n",
       "    .dataframe thead th {\n",
       "        text-align: right;\n",
       "    }\n",
       "</style>\n",
       "<table border=\"1\" class=\"dataframe\">\n",
       "  <thead>\n",
       "    <tr style=\"text-align: right;\">\n",
       "      <th></th>\n",
       "      <th>sepal length (cm)</th>\n",
       "      <th>sepal width (cm)</th>\n",
       "      <th>petal length (cm)</th>\n",
       "      <th>petal width (cm)</th>\n",
       "      <th>target</th>\n",
       "      <th>target_names</th>\n",
       "    </tr>\n",
       "  </thead>\n",
       "  <tbody>\n",
       "    <tr>\n",
       "      <th>41</th>\n",
       "      <td>4.5</td>\n",
       "      <td>2.3</td>\n",
       "      <td>1.3</td>\n",
       "      <td>0.3</td>\n",
       "      <td>0</td>\n",
       "      <td>setosa</td>\n",
       "    </tr>\n",
       "    <tr>\n",
       "      <th>112</th>\n",
       "      <td>6.8</td>\n",
       "      <td>3.0</td>\n",
       "      <td>5.5</td>\n",
       "      <td>2.1</td>\n",
       "      <td>2</td>\n",
       "      <td>virginica</td>\n",
       "    </tr>\n",
       "    <tr>\n",
       "      <th>35</th>\n",
       "      <td>5.0</td>\n",
       "      <td>3.2</td>\n",
       "      <td>1.2</td>\n",
       "      <td>0.2</td>\n",
       "      <td>0</td>\n",
       "      <td>setosa</td>\n",
       "    </tr>\n",
       "    <tr>\n",
       "      <th>47</th>\n",
       "      <td>4.6</td>\n",
       "      <td>3.2</td>\n",
       "      <td>1.4</td>\n",
       "      <td>0.2</td>\n",
       "      <td>0</td>\n",
       "      <td>setosa</td>\n",
       "    </tr>\n",
       "    <tr>\n",
       "      <th>14</th>\n",
       "      <td>5.8</td>\n",
       "      <td>4.0</td>\n",
       "      <td>1.2</td>\n",
       "      <td>0.2</td>\n",
       "      <td>0</td>\n",
       "      <td>setosa</td>\n",
       "    </tr>\n",
       "    <tr>\n",
       "      <th>135</th>\n",
       "      <td>7.7</td>\n",
       "      <td>3.0</td>\n",
       "      <td>6.1</td>\n",
       "      <td>2.3</td>\n",
       "      <td>2</td>\n",
       "      <td>virginica</td>\n",
       "    </tr>\n",
       "  </tbody>\n",
       "</table>\n",
       "</div>"
      ],
      "text/plain": [
       "     sepal length (cm)  sepal width (cm)  petal length (cm)  petal width (cm)  \\\n",
       "41                 4.5               2.3                1.3               0.3   \n",
       "112                6.8               3.0                5.5               2.1   \n",
       "35                 5.0               3.2                1.2               0.2   \n",
       "47                 4.6               3.2                1.4               0.2   \n",
       "14                 5.8               4.0                1.2               0.2   \n",
       "135                7.7               3.0                6.1               2.3   \n",
       "\n",
       "     target target_names  \n",
       "41        0       setosa  \n",
       "112       2    virginica  \n",
       "35        0       setosa  \n",
       "47        0       setosa  \n",
       "14        0       setosa  \n",
       "135       2    virginica  "
      ]
     },
     "execution_count": 59,
     "metadata": {},
     "output_type": "execute_result"
    }
   ],
   "source": [
    "# 5개의 샘플을 랜덤으로 추출하여 sampled_train에 저장\n",
    "# 참고 : random_state는 시스템이 랜덤으로 뽑는 seed를 고정해서 여러번 수행해도 같은 결과가 노출될 수 있도록 고정한다.\n",
    "#987654\n",
    "sampled_train = iris_df.loc[(iris_df.target_names == \"setosa\")|(iris_df.target_names == \"virginica\")].sample(6, random_state=987654)\n",
    "sampled_train"
   ]
  },
  {
   "cell_type": "code",
   "execution_count": 60,
   "id": "81a18ade",
   "metadata": {},
   "outputs": [
    {
     "data": {
      "text/html": [
       "<div>\n",
       "<style scoped>\n",
       "    .dataframe tbody tr th:only-of-type {\n",
       "        vertical-align: middle;\n",
       "    }\n",
       "\n",
       "    .dataframe tbody tr th {\n",
       "        vertical-align: top;\n",
       "    }\n",
       "\n",
       "    .dataframe thead th {\n",
       "        text-align: right;\n",
       "    }\n",
       "</style>\n",
       "<table border=\"1\" class=\"dataframe\">\n",
       "  <thead>\n",
       "    <tr style=\"text-align: right;\">\n",
       "      <th></th>\n",
       "      <th>sepal length (cm)</th>\n",
       "      <th>sepal width (cm)</th>\n",
       "      <th>petal length (cm)</th>\n",
       "      <th>petal width (cm)</th>\n",
       "      <th>target</th>\n",
       "      <th>target_names</th>\n",
       "    </tr>\n",
       "  </thead>\n",
       "  <tbody>\n",
       "    <tr>\n",
       "      <th>116</th>\n",
       "      <td>6.5</td>\n",
       "      <td>3.0</td>\n",
       "      <td>5.5</td>\n",
       "      <td>1.8</td>\n",
       "      <td>2</td>\n",
       "      <td>virginica</td>\n",
       "    </tr>\n",
       "  </tbody>\n",
       "</table>\n",
       "</div>"
      ],
      "text/plain": [
       "     sepal length (cm)  sepal width (cm)  petal length (cm)  petal width (cm)  \\\n",
       "116                6.5               3.0                5.5               1.8   \n",
       "\n",
       "     target target_names  \n",
       "116       2    virginica  "
      ]
     },
     "execution_count": 60,
     "metadata": {},
     "output_type": "execute_result"
    }
   ],
   "source": [
    "# 1개의 샘플을 랜덤으로 추출하여 sampled_test에 저장\n",
    "# 98765\n",
    "sampled_test = iris_df.loc[(iris_df.target_names == \"setosa\")|(iris_df.target_names == \"virginica\")].sample(1,random_state=123457)\n",
    "sampled_test"
   ]
  },
  {
   "cell_type": "code",
   "execution_count": 61,
   "id": "1d06d649",
   "metadata": {},
   "outputs": [],
   "source": [
    "# 데이터를 피쳐 + 타겟으로 분리\n",
    "# 이번 예제에서 피처는 'petal length (cm)', 'petal width (cm)' 2개를 사용할 예정이다.\n",
    "\n",
    "# 'petal length (cm)', 'petal width (cm)'만 선택하여 훈련데이터 생성\n",
    "X_train = sampled_train[['sepal length (cm)', 'sepal width (cm)']]\n",
    "y_train = sampled_train['target_names']\n",
    "\n",
    "# 'petal length (cm)', 'petal width (cm)'만 선택하여 테스트이터 생성\n",
    "X_test = sampled_test[['sepal length (cm)', 'sepal width (cm)']]\n",
    "y_test = sampled_test['target_names']"
   ]
  },
  {
   "cell_type": "markdown",
   "id": "56af4785",
   "metadata": {},
   "source": [
    "### 훈련+테스트 데이터 시각화"
   ]
  },
  {
   "cell_type": "code",
   "execution_count": 62,
   "id": "71c1a10e",
   "metadata": {},
   "outputs": [
    {
     "data": {
      "image/png": "[encoded data removed]",
      "text/plain": [
       "<Figure size 640x480 with 1 Axes>"
      ]
     },
     "metadata": {},
     "output_type": "display_data"
    }
   ],
   "source": [
    "# 훈련데이터\n",
    "sns.scatterplot(data=sampled_train, x=\"sepal length (cm)\", y=\"sepal width (cm)\", hue=\"target_names\", palette=['blue','red'])\n",
    "\n",
    "# 테스트데이터\n",
    "sns.scatterplot(data=sampled_test, x=\"sepal length (cm)\", y=\"sepal width (cm)\", hue=\"target_names\", palette=['black'], legend=False)\n",
    "plt.show()"
   ]
  },
  {
   "cell_type": "markdown",
   "id": "fefc1f8e",
   "metadata": {},
   "source": [
    "### Step03 : 모델 훈련 및 예측결과\n",
    "만들어낸 샘플 데이터를 통해 KNN 모델을 생성하고 예측한 결과는 아래와 같다."
   ]
  },
  {
   "cell_type": "code",
   "execution_count": 63,
   "id": "0f75bfcd",
   "metadata": {},
   "outputs": [
    {
     "name": "stdout",
     "output_type": "stream",
     "text": [
      "K=1일 때, 테스트데이터에 대한 KNN의 예측결과는 ['virginica'] 입니다.\n"
     ]
    }
   ],
   "source": [
    "# estimater 생성 (모델 생성, k=1~5까지)\n",
    "clf = neighbors.KNeighborsClassifier(n_neighbors=n, metric=\"euclidean\")\n",
    "\n",
    "# 모델 훈련(train data)(보통 feeding 이라고 부름: 데이터를 먹인다)\n",
    "clf.fit(X_train, y_train)\n",
    "\n",
    "# 타켓값이 없는 X_test를 통해 테스트셋에 대한 예측\n",
    "pred = clf.predict(X_test)\n",
    "print(f\"K={n}일 때, 테스트데이터에 대한 KNN의 예측결과는 {pred} 입니다.\")"
   ]
  },
  {
   "cell_type": "markdown",
   "id": "022f2624",
   "metadata": {},
   "source": [
    "### K값에 따라 달라지는 결과"
   ]
  },
  {
   "cell_type": "code",
   "execution_count": 64,
   "id": "2c56b3f2",
   "metadata": {},
   "outputs": [
    {
     "name": "stdout",
     "output_type": "stream",
     "text": [
      "K=1일 때, 테스트데이터에 대한 KNN의 예측결과는 ['virginica'] 입니다.\n",
      "K=2일 때, 테스트데이터에 대한 KNN의 예측결과는 ['virginica'] 입니다.\n",
      "K=3일 때, 테스트데이터에 대한 KNN의 예측결과는 ['virginica'] 입니다.\n",
      "K=4일 때, 테스트데이터에 대한 KNN의 예측결과는 ['setosa'] 입니다.\n",
      "K=5일 때, 테스트데이터에 대한 KNN의 예측결과는 ['setosa'] 입니다.\n"
     ]
    }
   ],
   "source": [
    "# estimater 생성 (모델 생성, k=1~5까지)\n",
    "for n in range(1,6):\n",
    "    \n",
    "    clf = neighbors.KNeighborsClassifier(n_neighbors=n, metric=\"euclidean\")\n",
    "\n",
    "    # 모델 훈련(train data)(보통 feeding 이라고 부름: 데이터를 먹인다)\n",
    "    clf.fit(X_train, y_train)\n",
    "\n",
    "    # 타켓값이 없는 X_test를 통해 테스트셋에 대한 예측\n",
    "    pred = clf.predict(X_test)\n",
    "    print(f\"K={n}일 때, 테스트데이터에 대한 KNN의 예측결과는 {pred} 입니다.\")"
   ]
  },
  {
   "cell_type": "markdown",
   "id": "5458a72b",
   "metadata": {},
   "source": [
    "위 결과에 대해서 직관적으로 해석해보면 다음과 같은데, K의 값에 따른 KNN모델의 훈련을 시각화 하면 아래와 같을 것이다."
   ]
  },
  {
   "cell_type": "markdown",
   "id": "a56033a3",
   "metadata": {},
   "source": [
    "<div align=\"center\">\n",
    "\t<img src=\"https://github.com/int29/PMLP-101/blob/main/chapter_02_Algorithm_Classification_01_KNN/img/02_17.png?raw=true\">\n",
    "\t<p>[그림207]</p>\n",
    "</div>"
   ]
  },
  {
   "cell_type": "markdown",
   "id": "f845a663",
   "metadata": {},
   "source": [
    "여기서 K=4인 경우 `setosa`, `virginica` 인스턴스가 각각 2개로 동률(tie)인데, Sklearn은 동률일 경우 target 라벨의 소팅 순서대로 결과를 내보내기 때문에 `setosa`로 예측한다.)\n",
    "\n",
    ">원문 : Warning Regarding the Nearest Neighbors algorithms, if it is found that two neighbors, neighbor k+1 and k, have identical distances but different labels, the results will depend on the ordering of the training data.[\\[4\\]](https://scikit-learn.org/stable/modules/generated/sklearn.neighbors.KNeighborsClassifier.html)\n",
    "\n",
    "### KNN 하이퍼파라미터와 하이퍼파라미터 튜닝&최적화\n",
    "\n",
    "머신러닝에는 사용자가 정해줘야하는 값인 하이퍼 파라미터라는 값이 존재한다. 이 하이퍼 파라미터를 어떻게 결정하느냐에 따라 좋은결과를 얻을 수도, 과적합이나 과소적합된 모형을 만들 수 있기 때문에 모델의 훈련정확도를 올리고 테스트데이터에 대한 일반화 정도를 높이기 위해 하이퍼 파라미터 튜닝하는 과정이 필수적으로 요구된다. \n",
    "sklearn 라이브러리의 neighbors.KNeighborsClassifier( ) 는 아래와 같이 사용자가 정해주어야할 하이퍼파라미터가 존재한다. \n",
    "\n",
    "    KNeighborsClassifier(n_neighbors=5, *, weights='uniform', algorithm='auto', leaf_size=30, p=2, metric='minkowski', metric_params=None, n_jobs=None\n",
    "\n",
    "전체 하이퍼파라미터 및 함수인자는 [공식문서](\"https://scikit-learn.org/stable/modules/generated/sklearn.neighbors.KNeighborsClassifier.html\") 에서 확인 가능하다. 여기서는 neighbors.KNeighborsClassifier의 주요한 하이퍼파라미터가 의미하는 바와 어떻게 영향을 미치는지 확인해보자."
   ]
  },
  {
   "cell_type": "markdown",
   "id": "a2888250",
   "metadata": {},
   "source": [
    "### 1) n_neighbors=5 : K의 수 (기본값 5)\n",
    "n_neighbors의 경우 위 예시에서 확인했듯, K의 수이다. K개만큼 이웃을 추출하여 타겟값을 예측한다. (단, K개는 전체 훈련 인스턴스의 수 이상으로 설정할 수 없다.)\n",
    "\n",
    "여기서 중요한 부분은 K의 증가와 감소에 따른 모델이 어떻게 변화하는지인데, K가 작을경우 소수의 훈련인스턴스에 따라서 모델의 결과가 정해지기 때문에 모델은 과적합(Overfitting)될 가능성이 높다. 반대로 K가 증가할수록 점점 불필요한 이웃들이 포함될 가능성이 높아져 과소적합(Underfitting) 가능성이 올라간다. 위 예시에서 k가 5이상부터는 전체 훈련 데이터에 virginica가 2개밖에 되지 않기 때문에 무조건 setosa가 과반을 차지한다. 따라서 KNN모델은 setosa만 노출하게 돼 모델은 훈련데이터와 테스트데이터 모두를 반영하지 못하는 과소적합(Underfitting)상태가 된다.\n",
    "\n",
    "또한 동률일 경우 단지 setosa의 순서가 virinica보다 앞서 정렬되기 때문에 setosa가 노출되게 된다. 이처럼 짝수일 경우 동률(tie)문제가 발생할 수 있기 때문에 보통은 홀수로 설정한다."
   ]
  },
  {
   "cell_type": "markdown",
   "id": "43944ba7",
   "metadata": {},
   "source": [
    "### 2) metric='minkowski' : 인스턴스간 거리 측정방식 (기본값 : minkowski)\n",
    "\n",
    "metric은 인스턴스간 거리를 어떻게 계산할지 설정하는 하이퍼 파라미터이다. 거리를 계산하는 방법이나, 유사도를 계산하는 방법은 맨하튼 거리(L1 norm), 코사인유사도(𝜃)(cosin distance), 두 점사이의 상관관계를 활용하는 마할라노비스 거리(Mahalanobis distance) 등 여러 방법이 존재한다. 각 방법의 장단이 존재하고 사용해야하는 상황이 각기 다르기 때문에 추후에 꼭 각 거리의 계산법과 장단점들을 공부가 필요하며[3] Sklearn의 KNN모델에서 지원하는 거리계산 방식은 [공식문서](https://scikit-learn.org/stable/modules/generated/sklearn.metrics.pairwise.distance_metrics.html#sklearn.metrics.pairwise.distance_metrics) 에서 참고가 가능하다. \n",
    "\n",
    "특별한 경우가 아닌 매우 일반적인 상황에서는 `euclidean`을 주로 활용한다."
   ]
  },
  {
   "cell_type": "markdown",
   "id": "9cf25407",
   "metadata": {},
   "source": [
    "### 3) weights='uniform' : 인스턴스의 중요도를 다르게 평가하기 (기본값='uniform')\n",
    "\n",
    "위 예시에서 K=4인 경우 동률이기 때문에 단지 ordering 으로 예측결과를 산출했다. KNN은 산술적으로 K개만큼 이웃 인스턴스를 추출하기 때문에 이러한 결과를 내보내는 것이다. 하지만 직관적으로 산점도를 살펴보면 검정색 테스트데이터는 붉은색 `virginica` 그룹에 더 가깝게 위치해있기 때문에 `virginica`로 판단하는게 더 합리적이게 보이는데 이렇게 각 인스턴스에 다른 가중치를 주는 하이퍼파라미터가 `weights` 이다. 기본값인 `uniform`은 모든 인스턴스를 동일하게 생각하겠다는 것이고, `distance`를 설정해 거리가 가까운 인스턴스를 더 중요하게 판단하게 모델훈련이 가능하다.(또는 사용자가 직접 명시한 가중치를 통해 각 인스턴스의 중요도를 설정가능하다)\n",
    "\n",
    "아래 `K=4`인 KNN모델에 `weights=\"distance\"`를 설정할경우 기존과 어떻게 달라지는지 확인해보자."
   ]
  },
  {
   "cell_type": "code",
   "execution_count": 48,
   "id": "a22787cd",
   "metadata": {},
   "outputs": [
    {
     "name": "stdout",
     "output_type": "stream",
     "text": [
      "K=4일 때, 테스트데이터에 대한 KNN의 예측결과는 ['virginica'] 입니다.\n"
     ]
    }
   ],
   "source": [
    "clf = neighbors.KNeighborsClassifier(n_neighbors=4, metric=\"euclidean\", weights=\"distance\")\n",
    "\n",
    "# 모델 훈련(train data)(보통 feeding 이라고 부름: 데이터를 먹인다)\n",
    "clf.fit(X_train, y_train)\n",
    "\n",
    "# 타켓값이 없는 X_test를 통해 테스트셋에 대한 예측\n",
    "pred = clf.predict(X_test)\n",
    "print(f\"K=4일 때, 테스트데이터에 대한 KNN의 예측결과는 {pred} 입니다.\")"
   ]
  },
  {
   "cell_type": "markdown",
   "id": "00a21daa",
   "metadata": {},
   "source": [
    "`weights=\"distance\"`로 하이퍼파라미터를 설정한 결과 `setosa`로 예측했던 과거와 달리 `virginica`로 올바르게 예측하는것을 확인할 수 있다. 이처럼 단지 모델개발을 한번하는것 외에도 머신러닝 모델을 개발할 때는 우리의 목표에 맞는 모델이 개발될 수 있도록 하이퍼파라미터를 튜닝하여 최적화하는 과정이 필수이다."
   ]
  },
  {
   "cell_type": "markdown",
   "id": "a4f1bb43",
   "metadata": {},
   "source": [
    "## (5) KNN 모델 예제 : 붖꽃(Iris) 품종 분류모델 개발\n",
    "\n",
    "Iris 데이터의 샘플을 통해 KNN에 대한 모델을 이해했다면, 이제는 전체 Iris데이터를 통해서 KNN 모델을 개발해보자 위 `Step00 : 라이브러리 로드`, `Step01 : 데이터 로드 및 클린징(전처리)`된 데이터를 계속 사용한다."
   ]
  },
  {
   "cell_type": "markdown",
   "id": "5b325d9f",
   "metadata": {},
   "source": [
    "### Step02 : 모델 훈련을 위한 데이터 준비"
   ]
  },
  {
   "cell_type": "code",
   "execution_count": 69,
   "id": "3512fd27",
   "metadata": {},
   "outputs": [],
   "source": [
    "# 데이터를 피쳐 + 타겟으로 분리\n",
    "# 이번 예제에서 피처는 'petal length (cm)', 'petal width (cm)' 2개를 사용할 예정이다.\n",
    "\n",
    "# 'petal length (cm)', 'petal width (cm)'만 선택하여 훈련데이터 생성\n",
    "X = iris_df[['sepal length (cm)', 'sepal width (cm)']]\n",
    "\n",
    "# 타겟\n",
    "y = iris_df['target_names']\n",
    "\n",
    "# 모델을 학습할 데이터인 150송이 중 80%와 테스트할 20%를 분리\n",
    "X_train, X_test, y_train, y_test = train_test_split(X, y, test_size=0.2, random_state=1234)"
   ]
  },
  {
   "cell_type": "markdown",
   "id": "bed91fda",
   "metadata": {},
   "source": [
    "### Step03 : 베이스 모델훈련"
   ]
  },
  {
   "cell_type": "code",
   "execution_count": 70,
   "id": "0bfae7e3",
   "metadata": {},
   "outputs": [
    {
     "data": {
      "text/html": [
       "<style>#sk-container-id-7 {color: black;background-color: white;}#sk-container-id-7 pre{padding: 0;}#sk-container-id-7 div.sk-toggleable {background-color: white;}#sk-container-id-7 label.sk-toggleable__label {cursor: pointer;display: block;width: 100%;margin-bottom: 0;padding: 0.3em;box-sizing: border-box;text-align: center;}#sk-container-id-7 label.sk-toggleable__label-arrow:before {content: \"▸\";float: left;margin-right: 0.25em;color: #696969;}#sk-container-id-7 label.sk-toggleable__label-arrow:hover:before {color: black;}#sk-container-id-7 div.sk-estimator:hover label.sk-toggleable__label-arrow:before {color: black;}#sk-container-id-7 div.sk-toggleable__content {max-height: 0;max-width: 0;overflow: hidden;text-align: left;background-color: #f0f8ff;}#sk-container-id-7 div.sk-toggleable__content pre {margin: 0.2em;color: black;border-radius: 0.25em;background-color: #f0f8ff;}#sk-container-id-7 input.sk-toggleable__control:checked~div.sk-toggleable__content {max-height: 200px;max-width: 100%;overflow: auto;}#sk-container-id-7 input.sk-toggleable__control:checked~label.sk-toggleable__label-arrow:before {content: \"▾\";}#sk-container-id-7 div.sk-estimator input.sk-toggleable__control:checked~label.sk-toggleable__label {background-color: #d4ebff;}#sk-container-id-7 div.sk-label input.sk-toggleable__control:checked~label.sk-toggleable__label {background-color: #d4ebff;}#sk-container-id-7 input.sk-hidden--visually {border: 0;clip: rect(1px 1px 1px 1px);clip: rect(1px, 1px, 1px, 1px);height: 1px;margin: -1px;overflow: hidden;padding: 0;position: absolute;width: 1px;}#sk-container-id-7 div.sk-estimator {font-family: monospace;background-color: #f0f8ff;border: 1px dotted black;border-radius: 0.25em;box-sizing: border-box;margin-bottom: 0.5em;}#sk-container-id-7 div.sk-estimator:hover {background-color: #d4ebff;}#sk-container-id-7 div.sk-parallel-item::after {content: \"\";width: 100%;border-bottom: 1px solid gray;flex-grow: 1;}#sk-container-id-7 div.sk-label:hover label.sk-toggleable__label {background-color: #d4ebff;}#sk-container-id-7 div.sk-serial::before {content: \"\";position: absolute;border-left: 1px solid gray;box-sizing: border-box;top: 0;bottom: 0;left: 50%;z-index: 0;}#sk-container-id-7 div.sk-serial {display: flex;flex-direction: column;align-items: center;background-color: white;padding-right: 0.2em;padding-left: 0.2em;position: relative;}#sk-container-id-7 div.sk-item {position: relative;z-index: 1;}#sk-container-id-7 div.sk-parallel {display: flex;align-items: stretch;justify-content: center;background-color: white;position: relative;}#sk-container-id-7 div.sk-item::before, #sk-container-id-7 div.sk-parallel-item::before {content: \"\";position: absolute;border-left: 1px solid gray;box-sizing: border-box;top: 0;bottom: 0;left: 50%;z-index: -1;}#sk-container-id-7 div.sk-parallel-item {display: flex;flex-direction: column;z-index: 1;position: relative;background-color: white;}#sk-container-id-7 div.sk-parallel-item:first-child::after {align-self: flex-end;width: 50%;}#sk-container-id-7 div.sk-parallel-item:last-child::after {align-self: flex-start;width: 50%;}#sk-container-id-7 div.sk-parallel-item:only-child::after {width: 0;}#sk-container-id-7 div.sk-dashed-wrapped {border: 1px dashed gray;margin: 0 0.4em 0.5em 0.4em;box-sizing: border-box;padding-bottom: 0.4em;background-color: white;}#sk-container-id-7 div.sk-label label {font-family: monospace;font-weight: bold;display: inline-block;line-height: 1.2em;}#sk-container-id-7 div.sk-label-container {text-align: center;}#sk-container-id-7 div.sk-container {/* jupyter's `normalize.less` sets `[hidden] { display: none; }` but bootstrap.min.css set `[hidden] { display: none !important; }` so we also need the `!important` here to be able to override the default hidden behavior on the sphinx rendered scikit-learn.org. See: https://github.com/scikit-learn/scikit-learn/issues/21755 */display: inline-block !important;position: relative;}#sk-container-id-7 div.sk-text-repr-fallback {display: none;}</style><div id=\"sk-container-id-7\" class=\"sk-top-container\"><div class=\"sk-text-repr-fallback\"><pre>KNeighborsClassifier(n_neighbors=1)</pre><b>In a Jupyter environment, please rerun this cell to show the HTML representation or trust the notebook. <br />On GitHub, the HTML representation is unable to render, please try loading this page with nbviewer.org.</b></div><div class=\"sk-container\" hidden><div class=\"sk-item\"><div class=\"sk-estimator sk-toggleable\"><input class=\"sk-toggleable__control sk-hidden--visually\" id=\"sk-estimator-id-7\" type=\"checkbox\" checked><label for=\"sk-estimator-id-7\" class=\"sk-toggleable__label sk-toggleable__label-arrow\">KNeighborsClassifier</label><div class=\"sk-toggleable__content\"><pre>KNeighborsClassifier(n_neighbors=1)</pre></div></div></div></div></div>"
      ],
      "text/plain": [
       "KNeighborsClassifier(n_neighbors=1)"
      ]
     },
     "execution_count": 70,
     "metadata": {},
     "output_type": "execute_result"
    }
   ],
   "source": [
    "# estimater 생성 (모델 생성, k=1)\n",
    "clf = neighbors.KNeighborsClassifier(n_neighbors=1)\n",
    "\n",
    "# 모델 훈련(train data)(보통 feeding 이라고 부름: 데이터를 먹인다)\n",
    "clf.fit(X_train, y_train)"
   ]
  },
  {
   "cell_type": "markdown",
   "id": "1b5ee05b",
   "metadata": {},
   "source": [
    "### Step04 : 예측 및 평가"
   ]
  },
  {
   "cell_type": "code",
   "execution_count": 71,
   "id": "b04a0241",
   "metadata": {},
   "outputs": [
    {
     "data": {
      "text/plain": [
       "array(['virginica', 'versicolor', 'versicolor', 'setosa', 'versicolor',\n",
       "       'setosa', 'setosa', 'setosa', 'versicolor', 'virginica',\n",
       "       'versicolor', 'setosa', 'virginica', 'virginica', 'setosa',\n",
       "       'virginica', 'versicolor', 'setosa', 'versicolor', 'virginica',\n",
       "       'virginica', 'virginica', 'virginica', 'versicolor', 'virginica',\n",
       "       'setosa', 'virginica', 'versicolor', 'virginica', 'setosa'],\n",
       "      dtype=object)"
      ]
     },
     "execution_count": 71,
     "metadata": {},
     "output_type": "execute_result"
    }
   ],
   "source": [
    "# 타켓값이 없는 X_test를 통해 테스트셋에 대한 예측\n",
    "pred = clf.predict(X_test)\n",
    "\n",
    "# 예측값 확인\n",
    "pred"
   ]
  },
  {
   "cell_type": "code",
   "execution_count": 72,
   "id": "6ef7ec66",
   "metadata": {
    "scrolled": true
   },
   "outputs": [
    {
     "data": {
      "text/plain": [
       "66.66666666666666"
      ]
     },
     "execution_count": 72,
     "metadata": {},
     "output_type": "execute_result"
    }
   ],
   "source": [
    "# 실제 값과 평가\n",
    "accuracy_score(pred, y_test)*100"
   ]
  },
  {
   "cell_type": "markdown",
   "id": "d1731bd2",
   "metadata": {},
   "source": [
    "### Step05 : 하이퍼 파라미터 튜닝\n",
    "\n",
    "하이퍼 파라미터는 사용자가 직접 설정하는 값이기 때문에 \"어떤 값을 넣는것이 옳은가?\" 라는 의문이 들 수 있다. 하지만 애석하게도 `00.들어가기`에 설명했듯이 이건 The Art의 영역이기 때문에 정답이 없다. 내가 갖은 데이터, 머신러닝 Task에 따라 하이퍼파라미터값에 따른 모델의 점수를 살펴보며 하이퍼파라미터를 튜닝하게된다. 가장 쉬운 방법은 범위를 지정하고 그 범위에 맞는 모든 조합을 실행한 후 가장 점수가 좋은 하이퍼 파라미터를 사용하는 것이다.\n",
    "\n",
    "> 하이퍼 파라미터를 튜닝하고 최적화하는 과정을 최적화 이론에 따라서 튜팅이 가능하다. 한가지 예시로 모든 값을 실행해보는 grid search 방법외에 베이지안 최적화를 통해서 하이퍼파라미터를 튜닝할 수 있다.\n",
    "> * 베이지안 최적화 : bayes_opt 파이썬 라이브러리(https://github.com/fmfn/BayesianOptimization)"
   ]
  },
  {
   "cell_type": "code",
   "execution_count": 73,
   "id": "eb5b23c8",
   "metadata": {},
   "outputs": [
    {
     "name": "stdout",
     "output_type": "stream",
     "text": [
      "K=1, metric=euclidean, weights=distance 일 때, 테스트데이터에 대한 KNN의 예측정확도는 66.66666666666666 입니다.\n",
      "K=1, metric=euclidean, weights=uniform 일 때, 테스트데이터에 대한 KNN의 예측정확도는 66.66666666666666 입니다.\n",
      "K=1, metric=minkowski, weights=distance 일 때, 테스트데이터에 대한 KNN의 예측정확도는 66.66666666666666 입니다.\n",
      "K=1, metric=minkowski, weights=uniform 일 때, 테스트데이터에 대한 KNN의 예측정확도는 66.66666666666666 입니다.\n",
      "K=3, metric=euclidean, weights=distance 일 때, 테스트데이터에 대한 KNN의 예측정확도는 66.66666666666666 입니다.\n",
      "K=3, metric=euclidean, weights=uniform 일 때, 테스트데이터에 대한 KNN의 예측정확도는 70.0 입니다.\n",
      "K=3, metric=minkowski, weights=distance 일 때, 테스트데이터에 대한 KNN의 예측정확도는 66.66666666666666 입니다.\n",
      "K=3, metric=minkowski, weights=uniform 일 때, 테스트데이터에 대한 KNN의 예측정확도는 70.0 입니다.\n",
      "K=5, metric=euclidean, weights=distance 일 때, 테스트데이터에 대한 KNN의 예측정확도는 66.66666666666666 입니다.\n",
      "K=5, metric=euclidean, weights=uniform 일 때, 테스트데이터에 대한 KNN의 예측정확도는 70.0 입니다.\n",
      "K=5, metric=minkowski, weights=distance 일 때, 테스트데이터에 대한 KNN의 예측정확도는 66.66666666666666 입니다.\n",
      "K=5, metric=minkowski, weights=uniform 일 때, 테스트데이터에 대한 KNN의 예측정확도는 70.0 입니다.\n",
      "K=7, metric=euclidean, weights=distance 일 때, 테스트데이터에 대한 KNN의 예측정확도는 70.0 입니다.\n",
      "K=7, metric=euclidean, weights=uniform 일 때, 테스트데이터에 대한 KNN의 예측정확도는 76.66666666666667 입니다.\n",
      "K=7, metric=minkowski, weights=distance 일 때, 테스트데이터에 대한 KNN의 예측정확도는 70.0 입니다.\n",
      "K=7, metric=minkowski, weights=uniform 일 때, 테스트데이터에 대한 KNN의 예측정확도는 76.66666666666667 입니다.\n",
      "K=9, metric=euclidean, weights=distance 일 때, 테스트데이터에 대한 KNN의 예측정확도는 70.0 입니다.\n",
      "K=9, metric=euclidean, weights=uniform 일 때, 테스트데이터에 대한 KNN의 예측정확도는 70.0 입니다.\n",
      "K=9, metric=minkowski, weights=distance 일 때, 테스트데이터에 대한 KNN의 예측정확도는 70.0 입니다.\n",
      "K=9, metric=minkowski, weights=uniform 일 때, 테스트데이터에 대한 KNN의 예측정확도는 70.0 입니다.\n"
     ]
    }
   ],
   "source": [
    "# estimater 생성 (모델 생성, k=1)\n",
    "hyper_param_n_neighbors = [1,3,5,7,9]\n",
    "hyper_param_metric = [\"euclidean\",\"minkowski\"]\n",
    "hyper_param_weights = [\"distance\",\"uniform\"]\n",
    "\n",
    "for k in hyper_param_n_neighbors:\n",
    "    for param_metric in hyper_param_metric:\n",
    "        for param_weights in hyper_param_weights:\n",
    "            clf = neighbors.KNeighborsClassifier(n_neighbors=k, metric=param_metric, weights=param_weights) # 하이퍼 파라미터를 적용한 estimator 생성\n",
    "            clf.fit(X_train, y_train) # 모델 훈련\n",
    "            pred = clf.predict(X_test) # 예측\n",
    "            pred_score = accuracy_score(pred, y_test)*100 # 실제 값과 평가\n",
    "            \n",
    "            print(f\"K={k}, metric={param_metric}, weights={param_weights} 일 때, 테스트데이터에 대한 KNN의 예측정확도는 {pred_score} 입니다.\")"
   ]
  },
  {
   "cell_type": "markdown",
   "id": "f459955a",
   "metadata": {},
   "source": [
    "### Step06 : 피쳐 엔지니어링\n",
    "\n",
    "주요한 하이퍼파라미터를 모두 적용해보았지만, 성능의 유효한 향상이 없었다. 하이퍼파라미터 튜닝은 전체 모델에서 과적합을 막고 추가적인 정확도 확보할 수 있지만 만능은 아니다. 하이퍼 파라미터 튜닝 보다 사실 더 효과적인 방법은 훈련하는 데이터에 집중하는것이다. 우리는 훈련데이터에 들어가는 이러한 과정을 피쳐 엔지니어링이라고 한다. 피쳐 엔지니어링은 피쳐를 선택하는 feature selection 뿐만아니라 파생변수를 생성하는 Deriving features, PCA, T-SNE, Auto Encoding과 같이 피쳐 자체를 변경시키는 feature extraction(or feature transform) 과 같은 굉장히 광범위한 분야를 모두 포괄한다.\n",
    "\n",
    "어려운 부분들은 차차 진행하기로 하고, 지금은 피쳐선택(feature selection)을 진행해 모델의 성능을 높여보자\n",
    "모델에 사용한 피쳐는 'sepal length (cm)', 'sepal width (cm)' 2가지로 실제 iris데이터는 'sepal length (cm)', 'sepal width (cm)', 'petal length (cm)', 'petal width (cm)' 4가지 피쳐가 존재한다. "
   ]
  },
  {
   "cell_type": "code",
   "execution_count": 74,
   "id": "812ea8b8",
   "metadata": {},
   "outputs": [],
   "source": [
    "# 기존  'sepal length (cm)', 'sepal width (cm)' 사용하던 피쳐에서 1개를 'petal length (cm)' 추가해보자\n",
    "X = iris_df[['sepal length (cm)', 'sepal width (cm)','petal length (cm)']]\n",
    "\n",
    "# 타겟\n",
    "y = iris_df['target_names']\n",
    "\n",
    "# 모델을 학습할 데이터인 150송이 중 80%와 테스트할 20%를 분리\n",
    "X_train, X_test, y_train, y_test = train_test_split(X, y, test_size=0.2, random_state=1234)"
   ]
  },
  {
   "cell_type": "code",
   "execution_count": 77,
   "id": "814d449f",
   "metadata": {},
   "outputs": [
    {
     "name": "stdout",
     "output_type": "stream",
     "text": [
      "K=3일 때, 테스트데이터에 대한 KNN의 예측결과는 90.0 입니다.\n"
     ]
    }
   ],
   "source": [
    "# 모델훈련\n",
    "clf = neighbors.KNeighborsClassifier(n_neighbors=3, metric=\"euclidean\", weights=\"distance\")\n",
    "\n",
    "# 모델 훈련(train data)(보통 feeding 이라고 부름: 데이터를 먹인다)\n",
    "clf.fit(X_train, y_train)\n",
    "\n",
    "# 타켓값이 없는 X_test를 통해 테스트셋에 대한 예측\n",
    "pred = clf.predict(X_test)\n",
    "pred_score = accuracy_score(pred, y_test)*100\n",
    "print(f\"K=3일 때, 테스트데이터에 대한 KNN의 예측결과는 {pred_score} 입니다.\")"
   ]
  },
  {
   "cell_type": "code",
   "execution_count": 79,
   "id": "4ce0c61f",
   "metadata": {},
   "outputs": [
    {
     "name": "stdout",
     "output_type": "stream",
     "text": [
      "K=1, metric=euclidean, weights=distance 일 때, 테스트데이터에 대한 KNN의 예측정확도는 93.33333333333333 입니다.\n",
      "K=1, metric=euclidean, weights=uniform 일 때, 테스트데이터에 대한 KNN의 예측정확도는 93.33333333333333 입니다.\n",
      "K=1, metric=minkowski, weights=distance 일 때, 테스트데이터에 대한 KNN의 예측정확도는 93.33333333333333 입니다.\n",
      "K=1, metric=minkowski, weights=uniform 일 때, 테스트데이터에 대한 KNN의 예측정확도는 93.33333333333333 입니다.\n",
      "K=3, metric=euclidean, weights=distance 일 때, 테스트데이터에 대한 KNN의 예측정확도는 90.0 입니다.\n",
      "K=3, metric=euclidean, weights=uniform 일 때, 테스트데이터에 대한 KNN의 예측정확도는 90.0 입니다.\n",
      "K=3, metric=minkowski, weights=distance 일 때, 테스트데이터에 대한 KNN의 예측정확도는 90.0 입니다.\n",
      "K=3, metric=minkowski, weights=uniform 일 때, 테스트데이터에 대한 KNN의 예측정확도는 90.0 입니다.\n",
      "K=5, metric=euclidean, weights=distance 일 때, 테스트데이터에 대한 KNN의 예측정확도는 90.0 입니다.\n",
      "K=5, metric=euclidean, weights=uniform 일 때, 테스트데이터에 대한 KNN의 예측정확도는 90.0 입니다.\n",
      "K=5, metric=minkowski, weights=distance 일 때, 테스트데이터에 대한 KNN의 예측정확도는 90.0 입니다.\n",
      "K=5, metric=minkowski, weights=uniform 일 때, 테스트데이터에 대한 KNN의 예측정확도는 90.0 입니다.\n",
      "K=7, metric=euclidean, weights=distance 일 때, 테스트데이터에 대한 KNN의 예측정확도는 93.33333333333333 입니다.\n",
      "K=7, metric=euclidean, weights=uniform 일 때, 테스트데이터에 대한 KNN의 예측정확도는 100.0 입니다.\n",
      "K=7, metric=minkowski, weights=distance 일 때, 테스트데이터에 대한 KNN의 예측정확도는 93.33333333333333 입니다.\n",
      "K=7, metric=minkowski, weights=uniform 일 때, 테스트데이터에 대한 KNN의 예측정확도는 100.0 입니다.\n",
      "K=9, metric=euclidean, weights=distance 일 때, 테스트데이터에 대한 KNN의 예측정확도는 93.33333333333333 입니다.\n",
      "K=9, metric=euclidean, weights=uniform 일 때, 테스트데이터에 대한 KNN의 예측정확도는 100.0 입니다.\n",
      "K=9, metric=minkowski, weights=distance 일 때, 테스트데이터에 대한 KNN의 예측정확도는 93.33333333333333 입니다.\n",
      "K=9, metric=minkowski, weights=uniform 일 때, 테스트데이터에 대한 KNN의 예측정확도는 100.0 입니다.\n"
     ]
    }
   ],
   "source": [
    "# 하이퍼 파라미터 튜닝\n",
    "hyper_param_n_neighbors = [1,3,5,7,9]\n",
    "hyper_param_metric = [\"euclidean\",\"minkowski\"]\n",
    "hyper_param_weights = [\"distance\",\"uniform\"]\n",
    "\n",
    "for k in hyper_param_n_neighbors:\n",
    "    for param_metric in hyper_param_metric:\n",
    "        for param_weights in hyper_param_weights:\n",
    "            clf = neighbors.KNeighborsClassifier(n_neighbors=k, metric=param_metric, weights=param_weights) # 하이퍼 파라미터를 적용한 estimator 생성\n",
    "            clf.fit(X_train, y_train) # 모델 훈련\n",
    "            pred = clf.predict(X_test) # 예측\n",
    "            pred_score = accuracy_score(pred, y_test)*100 # 실제 값과 평가\n",
    "            \n",
    "            print(f\"K={k}, metric={param_metric}, weights={param_weights} 일 때, 테스트데이터에 대한 KNN의 예측정확도는 {pred_score} 입니다.\")"
   ]
  },
  {
   "cell_type": "markdown",
   "id": "3547ac12",
   "metadata": {},
   "source": [
    "하이퍼파라미터 튜닝까지 해서 100% 정확도를 달성했다. 그렇다면 4개 모든 피쳐를 사용해보자"
   ]
  },
  {
   "cell_type": "code",
   "execution_count": 82,
   "id": "7355ffd1",
   "metadata": {},
   "outputs": [],
   "source": [
    "# 기존  'sepal length (cm)', 'sepal width (cm)' 사용하던 피쳐에서 1개를 'petal length (cm)' 추가해보자\n",
    "X = iris_df[['sepal length (cm)', 'sepal width (cm)','petal length (cm)','petal length (cm)']]\n",
    "\n",
    "# 타겟\n",
    "y = iris_df['target_names']\n",
    "\n",
    "# 모델을 학습할 데이터인 150송이 중 80%와 테스트할 20%를 분리\n",
    "X_train, X_test, y_train, y_test = train_test_split(X, y, test_size=0.2, random_state=1234)"
   ]
  },
  {
   "cell_type": "code",
   "execution_count": 87,
   "id": "c38d49eb",
   "metadata": {},
   "outputs": [
    {
     "name": "stdout",
     "output_type": "stream",
     "text": [
      "K=1, metric=euclidean, weights=distance 일 때, 테스트데이터에 대한 KNN의 예측정확도는 90.0 입니다.\n",
      "K=1, metric=euclidean, weights=uniform 일 때, 테스트데이터에 대한 KNN의 예측정확도는 90.0 입니다.\n",
      "K=1, metric=minkowski, weights=distance 일 때, 테스트데이터에 대한 KNN의 예측정확도는 90.0 입니다.\n",
      "K=1, metric=minkowski, weights=uniform 일 때, 테스트데이터에 대한 KNN의 예측정확도는 90.0 입니다.\n",
      "K=3, metric=euclidean, weights=distance 일 때, 테스트데이터에 대한 KNN의 예측정확도는 90.0 입니다.\n",
      "K=3, metric=euclidean, weights=uniform 일 때, 테스트데이터에 대한 KNN의 예측정확도는 90.0 입니다.\n",
      "K=3, metric=minkowski, weights=distance 일 때, 테스트데이터에 대한 KNN의 예측정확도는 90.0 입니다.\n",
      "K=3, metric=minkowski, weights=uniform 일 때, 테스트데이터에 대한 KNN의 예측정확도는 90.0 입니다.\n",
      "K=5, metric=euclidean, weights=distance 일 때, 테스트데이터에 대한 KNN의 예측정확도는 93.33333333333333 입니다.\n",
      "K=5, metric=euclidean, weights=uniform 일 때, 테스트데이터에 대한 KNN의 예측정확도는 93.33333333333333 입니다.\n",
      "K=5, metric=minkowski, weights=distance 일 때, 테스트데이터에 대한 KNN의 예측정확도는 93.33333333333333 입니다.\n",
      "K=5, metric=minkowski, weights=uniform 일 때, 테스트데이터에 대한 KNN의 예측정확도는 93.33333333333333 입니다.\n",
      "K=7, metric=euclidean, weights=distance 일 때, 테스트데이터에 대한 KNN의 예측정확도는 93.33333333333333 입니다.\n",
      "K=7, metric=euclidean, weights=uniform 일 때, 테스트데이터에 대한 KNN의 예측정확도는 100.0 입니다.\n",
      "K=7, metric=minkowski, weights=distance 일 때, 테스트데이터에 대한 KNN의 예측정확도는 93.33333333333333 입니다.\n",
      "K=7, metric=minkowski, weights=uniform 일 때, 테스트데이터에 대한 KNN의 예측정확도는 100.0 입니다.\n",
      "K=9, metric=euclidean, weights=distance 일 때, 테스트데이터에 대한 KNN의 예측정확도는 100.0 입니다.\n",
      "K=9, metric=euclidean, weights=uniform 일 때, 테스트데이터에 대한 KNN의 예측정확도는 100.0 입니다.\n",
      "K=9, metric=minkowski, weights=distance 일 때, 테스트데이터에 대한 KNN의 예측정확도는 100.0 입니다.\n",
      "K=9, metric=minkowski, weights=uniform 일 때, 테스트데이터에 대한 KNN의 예측정확도는 100.0 입니다.\n"
     ]
    }
   ],
   "source": [
    "# 하이퍼 파라미터 튜닝\n",
    "hyper_param_n_neighbors = [1,3,5,7,9]\n",
    "hyper_param_metric = [\"euclidean\",\"minkowski\"]\n",
    "hyper_param_weights = [\"distance\",\"uniform\"]\n",
    "\n",
    "for k in hyper_param_n_neighbors:\n",
    "    for param_metric in hyper_param_metric:\n",
    "        for param_weights in hyper_param_weights:\n",
    "            clf = neighbors.KNeighborsClassifier(n_neighbors=k, metric=param_metric, weights=param_weights) # 하이퍼 파라미터를 적용한 estimator 생성\n",
    "            clf.fit(X_train, y_train) # 모델 훈련\n",
    "            pred = clf.predict(X_test) # 예측\n",
    "            pred_score = accuracy_score(pred, y_test)*100 # 실제 값과 평가\n",
    "            \n",
    "            print(f\"K={k}, metric={param_metric}, weights={param_weights} 일 때, 테스트데이터에 대한 KNN의 예측정확도는 {pred_score} 입니다.\")"
   ]
  },
  {
   "cell_type": "markdown",
   "id": "147c8555",
   "metadata": {},
   "source": [
    "단지 `petal length (cm)` 또는 `petal length (cm), petal length (cm)`를 추가한것으로 20%이상의 정확도가 향상되었다. 머신러닝은 data science의 일종으로 데이터가 주인공이다. 좋은 모델과 모델튜닝도 중요하지만 제일 중요한건 데이터임을 잊어서는 안된다."
   ]
  },
  {
   "cell_type": "markdown",
   "id": "54aa83a0",
   "metadata": {},
   "source": [
    "\n",
    "### 인용\n",
    "\n",
    "<span style=\"font-size:70%\">[1]</span> : 네이버 국어사전(https://ko.dict.naver.com/#/entry/koko/dcc68b744c1b410dae38939990808f7c) \n",
    "\n",
    "<span style=\"font-size:70%\">[2]</span> :  不知其人이어든 視其友하라 (http://www.hanjanews.com/news/articleView.html?idxno=3650)\n",
    "> 不知其子이어든 視其父하고 不知其人이어든 視其友하라.\n",
    "> [독음]부지기자 시기부 부지기인 시기우[해석] 그 아들을 모르겠거든 그 아비를 보고 그 사람을 모르겠거든 그 친구를 보라\n",
    "\n",
    "<span style=\"font-size:70%\">[3]</span> : 데이터 과학을 위한 통계 : 데이터 분석에서 머신러닝까지 50가지 핵심개념(2018), 피터 브루스, 앤드루 브루스, 이준용, 김태헌, 한및미디어, 242p \n",
    "><원문>\n",
    ">벡터사이의 거리를 측정하기 위해 수많은 거리 지표들이 있다. 수치 데이터를 다룰 때, 마할라비스 거리 Mahalanobis distance는 두 변수 간의 상관관계를 사용하기 때문에 .... <후략>\n",
    "\n",
    "<span style=\"font-size:70%\">[4]</span> : sklearn 공식홈페이지 문서 (https://scikit-learn.org/stable/modules/generated/sklearn.neighbors.KNeighborsClassifier.html)\n",
    "><원문>Warning Regarding the Nearest Neighbors algorithms, if it is found that two neighbors, neighbor k+1 and k, have identical distances but different labels, the results will depend on the ordering of the training data.\n",
    "\n",
    "### 미주\n",
    "<span style=\"font-size:70%\">1</span> : 반대로 추상화와 일반화 과정을 거쳐 특정 모형을 생성하여 학습후 해당 모형을 통해 예측하는 모형을 모델 베이스 머신러닝(model based machine learning)이라 부른다. 이러한 모델 베이스 머신러닝은 특정 구조의 모형을 가정하고, 그 성질을 파라미터로 표현하는 존재하는 parametric 모형과 특정 구조의 모형을 가정하지 않는  모형인 non-parametric모형 중 어떤 모형을 활용하는지에 따라  parametric machine learning 과 non-parametric machine learning 으로 분류한다. \n",
    "\n",
    "<span style=\"font-size:70%\">2</span> : 또는 게으른 학습(Lazy learning) 알고리즘이라고도 부른다.\n"
   ]
  }
 ],
 "metadata": {
  "kernelspec": {
   "display_name": "jupyter",
   "language": "python",
   "name": "jupyter"
  },
  "language_info": {
   "codemirror_mode": {
    "name": "ipython",
    "version": 3
   },
   "file_extension": ".py",
   "mimetype": "text/x-python",
   "name": "python",
   "nbconvert_exporter": "python",
   "pygments_lexer": "ipython3",
   "version": "3.10.9"
  }
 },
 "nbformat": 4,
 "nbformat_minor": 5
}
